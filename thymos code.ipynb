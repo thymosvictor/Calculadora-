{
 "cells": [
  {
   "cell_type": "code",
   "execution_count": null,
   "metadata": {},
   "outputs": [],
   "source": [
    "#CALCULADORA MELHORADA"
   ]
  },
  {
   "cell_type": "code",
   "execution_count": null,
   "metadata": {},
   "outputs": [],
   "source": [
    "def somar(elemento1, elemento2):\n",
    "    return elemento1 + elemento2"
   ]
  },
  {
   "cell_type": "code",
   "execution_count": null,
   "metadata": {},
   "outputs": [],
   "source": [
    "def subtrair(elemento1, elemento2):\n",
    "    return elemento1 - elemento2 "
   ]
  },
  {
   "cell_type": "code",
   "execution_count": null,
   "metadata": {},
   "outputs": [],
   "source": [
    "def multiplicar(elemento1, elemento2):\n",
    "    return elemento1 * elemento2 "
   ]
  },
  {
   "cell_type": "code",
   "execution_count": null,
   "metadata": {},
   "outputs": [],
   "source": [
    "def dividir(elemento1, elemento2):\n",
    "    if elemento2 == 0:\n",
    "        return \"Erro: divisão por zero.\"\n",
    "    return elemento1 / elemento2 "
   ]
  },
  {
   "cell_type": "code",
   "execution_count": null,
   "metadata": {},
   "outputs": [],
   "source": [
    "operacoes = {\n",
    "    1: (\"soma\", somar),\n",
    "    2: (\"subtração\", subtrair),\n",
    "    3: (\"multiplicação\", multiplicar),\n",
    "    4: (\"divisão\", dividir)\n",
    "} "
   ]
  },
  {
   "cell_type": "code",
   "execution_count": null,
   "metadata": {},
   "outputs": [],
   "source": [
    "def exibir_menu():\n",
    "    print('+==================+')\n",
    "    print('| MENU DE OPERAÇÕES')\n",
    "    print('|  1 - somar       ')\n",
    "    print('|  2 - subtrair    ')\n",
    "    print('|  3 - multiplicar ')  \n",
    "    print('|  4 - dividir     ')     \n",
    "    print('|  0 - sair        ')     \n",
    "    print('+==================+')\n",
    "\n",
    "while True:\n",
    "    exibir_menu()\n",
    "\n",
    "    try:\n",
    "        op = int(input(\"Escolha uma operação: \"))\n",
    "        if op == 0:\n",
    "            break\n",
    "\n",
    "        if op not in operacoes:\n",
    "            print(\"Operação inválida. Por favor, escolha uma operação válida.\")\n",
    "            continue "
   ]
  },
  {
   "cell_type": "code",
   "execution_count": null,
   "metadata": {},
   "outputs": [],
   "source": [
    "elemento1 = float(input(\"Primeiro número: \"))\n",
    "        elemento2 = float(input(\"Segundo número: \")) "
   ]
  },
  {
   "cell_type": "code",
   "execution_count": null,
   "metadata": {},
   "outputs": [],
   "source": [
    "operacao_nome, operacao_func = operacoes[op]\n",
    "        resultado = operacao_func(elemento1, elemento2)\n",
    "        print(f'O resultado da {operacao_nome} é: {resultado}')\n",
    "    except ValueError:\n",
    "        print(\"Entrada inválida. Por favor, insira números válidos.\") "
   ]
  }
 ],
 "metadata": {
  "language_info": {
   "name": "python"
  }
 },
 "nbformat": 4,
 "nbformat_minor": 2
}
